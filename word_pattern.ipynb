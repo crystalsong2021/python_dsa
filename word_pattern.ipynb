{
 "cells": [
  {
   "cell_type": "code",
   "execution_count": null,
   "metadata": {},
   "outputs": [],
   "source": [
    "class Solution(object):\n",
    "    def wordPattern(self, pattern, s):\n",
    "        dic = defaultdict()  # the projection dict, key is the char in pattern and the value is a word\n",
    "        words = s.split(' ')\n",
    "\t\t# 'aa' -> 'dog', 'ab' -> 'dog dog', 'abc'- > 'cat dog cat'\n",
    "        if len(pattern) != len(words) or len(set(pattern)) != len(set(words)): return False\n",
    "        for i, c in enumerate(pattern):\n",
    "            if c in dic:  # c has been projected to some word\n",
    "                if dic[c] != words[i]: return False  # 'aba' -> 'cat dog dog'\n",
    "            else:\n",
    "                dic[c] = words[i]\n",
    "        return True"
   ]
  },
  {
   "cell_type": "code",
   "execution_count": null,
   "metadata": {},
   "outputs": [],
   "source": []
  },
  {
   "cell_type": "code",
   "execution_count": null,
   "metadata": {},
   "outputs": [],
   "source": []
  }
 ],
 "metadata": {
  "language_info": {
   "name": "python"
  },
  "orig_nbformat": 4
 },
 "nbformat": 4,
 "nbformat_minor": 2
}
