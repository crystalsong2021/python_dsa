{
 "cells": [
  {
   "cell_type": "code",
   "execution_count": 6,
   "metadata": {},
   "outputs": [
    {
     "name": "stdout",
     "output_type": "stream",
     "text": [
      "[4, 5, 6, 7]\n"
     ]
    }
   ],
   "source": [
    "'''\n",
    "Given a sorted array arr, two integers k and x, return the k closet integers to x in the array.\n",
    "The result should also be sorted in ascending order.\n",
    "An integer a is closer to x than an integer b if:\n",
    "  |a-x| < |b-x|, or\n",
    "  |a-x| == |b-x| and a < b\n",
    "\n",
    "Example:\n",
    "\n",
    "arr = [1, 2, 3, 4,5] k= 4, x = 3\n",
    "output: [1, 2, 3, 4]\n",
    "\n",
    "Example2:\n",
    "Input: arr = [1, 2, 3, 4, 5], k = 4, x = -1\n",
    "Output: [1, 2, 3, 4]\n",
    "\n",
    "Constrains:\n",
    "  1 <= k <= arr.length\n",
    "  1 <= arr.length <= 10^4\n",
    "  arr is sorted in ascending order\n",
    "  -10^4 <= arr[i], x <= 10^4\n",
    "\n",
    "'''\n",
    "\n",
    "\n",
    "def findClosetElements(arr:list[int], k: int, x: int) -> list [int]:\n",
    "  left, right = 0, len(arr)-k\n",
    "  while(left < right):\n",
    "    mid = (left + right) //2\n",
    "    if(x - arr[mid] > arr[mid + k] - x):\n",
    "      left = mid + 1\n",
    "    else:\n",
    "      right = mid\n",
    "  return arr[left : left + k]\n",
    "        \n",
    "\n",
    "  \n",
    "\n",
    "result = findClosetElements(arr=[1,2,3,4,5, 6, 7, 8, 9], k=4, x= 6)\n",
    "print(result)"
   ]
  }
 ],
 "metadata": {
  "interpreter": {
   "hash": "98332d24c7e05a06814a17c5f5160da3f9b204d171948a33c233d1925aba74d1"
  },
  "kernelspec": {
   "display_name": "Python 3.9.7 64-bit ('base': conda)",
   "language": "python",
   "name": "python3"
  },
  "language_info": {
   "codemirror_mode": {
    "name": "ipython",
    "version": 3
   },
   "file_extension": ".py",
   "mimetype": "text/x-python",
   "name": "python",
   "nbconvert_exporter": "python",
   "pygments_lexer": "ipython3",
   "version": "3.9.7"
  },
  "orig_nbformat": 4
 },
 "nbformat": 4,
 "nbformat_minor": 2
}
