{
 "cells": [
  {
   "cell_type": "code",
   "execution_count": null,
   "metadata": {},
   "outputs": [],
   "source": [
    "class Solution:\n",
    "    def findLeaves(self, root: Optional[TreeNode]) -> List[List[int]]:\n",
    "        stack = []\n",
    "        \n",
    "        def removeLeaves(node):\n",
    "            if node is None:\n",
    "                return None\n",
    "            \n",
    "            if node.left is None and node.right is None:\n",
    "                stack[-1].append(node.val)\n",
    "                return None\n",
    "                \n",
    "            node.left = removeLeaves(node.left)\n",
    "            node.right = removeLeaves(node.right)\n",
    "            \n",
    "            return node\n",
    "                   \n",
    "        while root:\n",
    "            stack.append([])\n",
    "            root = removeLeaves(root)\n",
    "        \n",
    "        return stack\n",
    "    "
   ]
  }
 ],
 "metadata": {
  "language_info": {
   "name": "python"
  },
  "orig_nbformat": 4
 },
 "nbformat": 4,
 "nbformat_minor": 2
}
