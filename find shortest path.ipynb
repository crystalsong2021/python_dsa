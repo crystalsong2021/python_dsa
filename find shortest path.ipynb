{
 "cells": [
  {
   "cell_type": "code",
   "execution_count": null,
   "metadata": {},
   "outputs": [],
   "source": [
    "         self.right = right\n",
    "class Solution:\n",
    "    def getDirections(self, root: Optional[TreeNode], startValue: int, destValue: int) -> str:\n",
    "        direction = defaultdict(dict)\n",
    "        \n",
    "        stack = [root]\n",
    "\n",
    "        while stack:\n",
    "            node = stack.pop()\n",
    "            \n",
    "            if node.left:\n",
    "                stack.append(node.left)\n",
    "                direction[node.val][node.left.val] = 'L'\n",
    "                direction[node.left.val][node.val] = 'U'\n",
    "\n",
    "            if node.right:\n",
    "                stack.append(node.right)\n",
    "                direction[node.val][node.right.val] = 'R'\n",
    "                direction[node.right.val][node.val] = 'U'\n",
    "\n",
    "        s = [(startValue, '')]\n",
    "        visited = {startValue}\n",
    "        \n",
    "        while s:\n",
    "            num, path = s.pop()\n",
    "            if num == destValue:\n",
    "                return path\n",
    "            for child in direction[num]:\n",
    "                if child not in visited:\n",
    "                    visited.add(child)\n",
    "                    s.append((child, path + direction[num][child]))"
   ]
  }
 ],
 "metadata": {
  "language_info": {
   "name": "python"
  },
  "orig_nbformat": 4
 },
 "nbformat": 4,
 "nbformat_minor": 2
}
