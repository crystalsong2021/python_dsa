{
 "cells": [
  {
   "cell_type": "code",
   "execution_count": null,
   "metadata": {},
   "outputs": [],
   "source": [
    "def findSuccessor(tree, node):\n",
    "\tinOrderTraversal = getInOrderTraversal(tree)\n",
    "\t\n",
    "\tfor idx, currentNode in enumerate(inOrderTraversal):\n",
    "\t\tif currentNode != node:\n",
    "\t\t\tcontinue\n",
    "\t\tif idx == len(inOrderTraversal) - 1:\n",
    "\t\t\treturn None\n",
    "\t\treturn inOrderTraversal[idx + 1]\n",
    "    \n",
    "\t\n",
    "def getInOrderTraversal(node, order=[]):\n",
    "\tif node is None:\n",
    "\t\treturn order\n",
    "\t\n",
    "\tgetInOrderTraversal(node.left, order)\n",
    "\torder.append(node)\n",
    "\tgetInOrderTraversal(node.right, order)\n",
    "\t\n",
    "\treturn order"
   ]
  }
 ],
 "metadata": {
  "language_info": {
   "name": "python"
  },
  "orig_nbformat": 4
 },
 "nbformat": 4,
 "nbformat_minor": 2
}
